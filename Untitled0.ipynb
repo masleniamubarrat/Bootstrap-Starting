{
  "nbformat": 4,
  "nbformat_minor": 0,
  "metadata": {
    "colab": {
      "name": "Untitled0.ipynb",
      "provenance": [],
      "authorship_tag": "ABX9TyNv1acdELTcgGFF1twJNUQ9",
      "include_colab_link": true
    },
    "kernelspec": {
      "name": "python3",
      "display_name": "Python 3"
    },
    "language_info": {
      "name": "python"
    }
  },
  "cells": [
    {
      "cell_type": "markdown",
      "metadata": {
        "id": "view-in-github",
        "colab_type": "text"
      },
      "source": [
        "<a href=\"https://colab.research.google.com/github/masleniamubarrat/Bootstrap-Starting/blob/main/Untitled0.ipynb\" target=\"_parent\"><img src=\"https://colab.research.google.com/assets/colab-badge.svg\" alt=\"Open In Colab\"/></a>"
      ]
    },
    {
      "cell_type": "code",
      "metadata": {
        "id": "l5YPWVNgXyDZ"
      },
      "source": [
        "thislist = [\"apple\", \"banana\", \"cherry\"]\n",
        "for k in thislist:\n",
        "   i = 0    \n",
        "   if k.startswith(\"a\"):\n",
        "      b = k[1:]\n",
        "      c=k.replace(k, b)\n",
        "      thislist[i] = c\n",
        "   i=i+1    \n",
        "print(thislist)"
      ],
      "execution_count": null,
      "outputs": []
    }
  ]
}